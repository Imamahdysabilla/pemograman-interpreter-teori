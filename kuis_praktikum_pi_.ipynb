{
  "nbformat": 4,
  "nbformat_minor": 0,
  "metadata": {
    "colab": {
      "provenance": []
    },
    "kernelspec": {
      "name": "python3",
      "display_name": "Python 3"
    },
    "language_info": {
      "name": "python"
    }
  },
  "cells": [
    {
      "cell_type": "code",
      "execution_count": 2,
      "metadata": {
        "colab": {
          "base_uri": "https://localhost:8080/"
        },
        "id": "xGvr6VscJ6e0",
        "outputId": "d3d46949-106e-4a94-a18e-f6358c1a41ed"
      },
      "outputs": [
        {
          "output_type": "stream",
          "name": "stdout",
          "text": [
            "12\n",
            "12\n"
          ]
        }
      ],
      "source": [
        "operasi = input()\n",
        "hasil = eval(operasi)\n",
        "print(hasil)\n",
        "#print hasil input"
      ]
    },
    {
      "cell_type": "code",
      "source": [
        "r = float(input())\n",
        "pi = 3.14\n",
        "luas = pi * (r ** 2)\n",
        "print(\"{:.2f}\".format(luas))\n",
        "#kolam kayla"
      ],
      "metadata": {
        "colab": {
          "base_uri": "https://localhost:8080/"
        },
        "id": "e8kqteCoMIrk",
        "outputId": "983ff313-703c-4415-e2ff-c23b7995cae2"
      },
      "execution_count": 3,
      "outputs": [
        {
          "output_type": "stream",
          "name": "stdout",
          "text": [
            "2\n",
            "12.56\n"
          ]
        }
      ]
    },
    {
      "cell_type": "code",
      "source": [
        "t, b, u = map(int, input().split())\n",
        "\n",
        "if t > 170 and b > 55 and u >= 15:\n",
        "    print(\"Lolos\")\n",
        "else:\n",
        "    print(\"Tidak Lolos\")\n",
        "#tinggi badan umur"
      ],
      "metadata": {
        "id": "hU7Esl_UMYpR"
      },
      "execution_count": null,
      "outputs": []
    },
    {
      "cell_type": "code",
      "source": [
        "N = int(input())\n",
        "\n",
        "for _ in range(N):\n",
        "    A, B = map(int, input().split())\n",
        "    if str(A) in str(B) and 2 * B > A ** 2:\n",
        "        print(\"Ya\")\n",
        "    else:\n",
        "        print(\"Tidak\")"
      ],
      "metadata": {
        "id": "iv1M0PoJNOis"
      },
      "execution_count": null,
      "outputs": []
    }
  ]
}